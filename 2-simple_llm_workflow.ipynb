{
 "cells": [
  {
   "cell_type": "code",
   "execution_count": 1,
   "id": "abf15f12",
   "metadata": {},
   "outputs": [],
   "source": [
    "from langgraph.graph import StateGraph, START, END\n",
    "from typing import TypedDict"
   ]
  },
  {
   "cell_type": "code",
   "execution_count": 2,
   "id": "d56b9ef0",
   "metadata": {},
   "outputs": [],
   "source": [
    "from langchain_google_genai import ChatGoogleGenerativeAI\n",
    "from dotenv import load_dotenv\n",
    "\n",
    "load_dotenv()\n",
    "\n",
    "model = ChatGoogleGenerativeAI(model = \"gemini-1.5-flash\")"
   ]
  },
  {
   "cell_type": "code",
   "execution_count": 4,
   "id": "554ebc72",
   "metadata": {},
   "outputs": [],
   "source": [
    "class BlogState(TypedDict):\n",
    "\n",
    "    title: str\n",
    "    outline: str\n",
    "    content: str"
   ]
  },
  {
   "cell_type": "code",
   "execution_count": 5,
   "id": "cd9245af",
   "metadata": {},
   "outputs": [],
   "source": [
    "def create_outline(state: BlogState) -> BlogState:\n",
    "\n",
    "    title = state['title']\n",
    "\n",
    "    prompt = f'Generate an outline for a blog on the topic - {title}'\n",
    "\n",
    "    state['outline'] = model.invoke(prompt).content\n",
    "\n",
    "    return state"
   ]
  },
  {
   "cell_type": "code",
   "execution_count": 6,
   "id": "f74e3a3f",
   "metadata": {},
   "outputs": [],
   "source": [
    "def create_blog(state: BlogState) -> BlogState:\n",
    "\n",
    "    title = state['title']\n",
    "\n",
    "    outline = state['outline']\n",
    "\n",
    "    prompt = f'Write an detailed blog ont the title - {title} using the outline - {outline}'\n",
    "\n",
    "    state['content'] = model.invoke(prompt).content\n",
    "\n",
    "    return state"
   ]
  },
  {
   "cell_type": "code",
   "execution_count": 8,
   "id": "477b37fb",
   "metadata": {},
   "outputs": [],
   "source": [
    "graph = StateGraph(BlogState)\n",
    "\n",
    "graph.add_node('create_outline', create_outline)\n",
    "graph.add_node('create_blog', create_blog)\n",
    "\n",
    "graph.add_edge(START, 'create_outline')\n",
    "graph.add_edge('create_outline', 'create_blog')\n",
    "graph.add_edge('create_blog', END)\n",
    "\n",
    "workflow = graph.compile()"
   ]
  },
  {
   "cell_type": "code",
   "execution_count": 9,
   "id": "4ac02153",
   "metadata": {},
   "outputs": [
    {
     "name": "stdout",
     "output_type": "stream",
     "text": [
      "## FC Barcelona: More Than Just a Club\n",
      "\n",
      "**I. Introduction:**\n",
      "\n",
      "The roar of 99,000 voices, a cacophony of cheers and chants echoing through the Camp Nou - this is the visceral experience of witnessing FC Barcelona, a club that transcends the boundaries of sport.  More than just a football team, Barça is a cultural icon, a symbol of Catalan identity, and a global powerhouse, consistently pushing the limits of the beautiful game. This blog delves into the heart of this iconic institution, exploring its rich history, current state, unique culture, and future prospects.\n",
      "\n",
      "\n",
      "**II. Historical Significance:**\n",
      "\n",
      "Founded in 1899 by a group of Swiss, English, and Catalan footballers, FC Barcelona's early years were marked by a fierce determination to establish itself amidst the footballing landscape of Spain.  The club's early successes were punctuated by periods of struggle, but a defining moment arrived with the arrival of Johan Cruyff in the 1970s. Cruyff not only transformed the team as a player but instilled a philosophy—the famed \"tiki-taka\"—that emphasizes possession-based football, intricate passing, and a commitment to beautiful, attacking play. This philosophy continues to resonate within the club's DNA.  The \"Dream Team\" of the 1990s, under the management of Johan Cruyff, cemented Barça's place at the top of European football, winning four La Liga titles and the European Cup.  Legends like László Kubala, Johan Cruyff himself, Diego Maradona (briefly), and the incomparable Lionel Messi have graced the Camp Nou, leaving an indelible mark on the club's history and inspiring generations of players.\n",
      "\n",
      "\n",
      "**III. Current State of the Club:**\n",
      "\n",
      "Currently, FC Barcelona is navigating a period of significant transition. While the club boasts talented players like Robert Lewandowski, Pedri, and Frenkie de Jong, consistency has been a challenge.  The managerial situation has seen changes in recent years, with the club seeking a manager who can effectively implement a winning strategy and build upon the club's rich legacy. Recent performance has been a mixed bag, with periods of dominance punctuated by frustrating inconsistencies.  The club has also faced considerable financial challenges, necessitating strategic decisions regarding player transfers and overall financial management.\n",
      "\n",
      "\n",
      "**IV. Unique Culture and Identity:**\n",
      "\n",
      "The motto \"Més que un club\" - \"More than a club\" - encapsulates the essence of FC Barcelona. It reflects the club's deep connection to Catalan culture and its role as a symbol of Catalan identity and pride in a region with a complex political history.  The Camp Nou is more than just a stadium; it's a cauldron of passion, a vibrant expression of Catalan spirit, where the atmosphere is electric, creating an unforgettable experience for players and fans alike. This passion extends far beyond Catalonia, with a massive global fanbase that spans continents and cultures, making Barça one of the most recognizable and supported clubs worldwide.\n",
      "\n",
      "\n",
      "**V. Future Prospects:**\n",
      "\n",
      "FC Barcelona faces both challenges and opportunities in the years ahead.  The club's famed La Masia youth academy remains a crucial element of its long-term strategy, consistently producing talented players who embody the club's playing philosophy.  Future transfer strategies will likely focus on securing players who align with this philosophy while also addressing financial constraints.  The club's long-term vision centers on sustained success on the pitch, coupled with responsible financial management and a continued commitment to its unique cultural identity.  Rebuilding a winning team while navigating financial realities will be key to achieving this ambition.\n",
      "\n",
      "\n",
      "**VI. Conclusion:**\n",
      "\n",
      "FC Barcelona's story is one of triumph, adversity, and unwavering commitment to its unique identity. From its humble beginnings to its global dominance, the club has consistently captivated audiences with its beautiful brand of football and its deep connection to its community.  The challenges ahead are significant, but the club's enduring legacy, its passionate fanbase, and its commitment to developing young talent suggest a bright future.  The question remains: can Barça reclaim its position at the pinnacle of European football while upholding its core values and navigating the complexities of the modern game?\n",
      "\n",
      "\n",
      "**VII. Call to Action:**\n",
      "\n",
      "What are your thoughts on FC Barcelona's current situation and its future prospects? Share your predictions and opinions in the comments below!  Follow us on [Social Media Links] for more updates and insights into the world of FC Barcelona.\n"
     ]
    }
   ],
   "source": [
    "final_state = workflow.invoke({'title': 'Football Club Barcelona'})\n",
    "\n",
    "print(final_state['content'])"
   ]
  },
  {
   "cell_type": "code",
   "execution_count": null,
   "id": "faf79a67",
   "metadata": {},
   "outputs": [],
   "source": []
  }
 ],
 "metadata": {
  "kernelspec": {
   "display_name": "Python 3",
   "language": "python",
   "name": "python3"
  },
  "language_info": {
   "codemirror_mode": {
    "name": "ipython",
    "version": 3
   },
   "file_extension": ".py",
   "mimetype": "text/x-python",
   "name": "python",
   "nbconvert_exporter": "python",
   "pygments_lexer": "ipython3",
   "version": "3.12.5"
  }
 },
 "nbformat": 4,
 "nbformat_minor": 5
}
