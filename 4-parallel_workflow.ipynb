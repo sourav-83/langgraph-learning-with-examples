{
 "cells": [
  {
   "cell_type": "code",
   "execution_count": 1,
   "id": "e6d79988",
   "metadata": {},
   "outputs": [],
   "source": [
    "from langgraph.graph import StateGraph, START, END\n",
    "from typing import TypedDict"
   ]
  },
  {
   "cell_type": "code",
   "execution_count": 6,
   "id": "e6fef6ec",
   "metadata": {},
   "outputs": [],
   "source": [
    "class BatsmanState (TypedDict):\n",
    "    runs: int\n",
    "    balls: int\n",
    "    fours: int\n",
    "    sixes: int\n",
    "\n",
    "    strike_rate: float\n",
    "    balls_per_boundary: float\n",
    "    boundary_percentage: float\n",
    "    summary: str"
   ]
  },
  {
   "cell_type": "code",
   "execution_count": 13,
   "id": "db9e641f",
   "metadata": {},
   "outputs": [],
   "source": [
    "def calculate_strike_rate(state: BatsmanState):\n",
    "    \n",
    "    strike_rate = state['runs'] * 100.0 / state['balls']\n",
    "\n",
    "    return {'strike_rate': strike_rate}"
   ]
  },
  {
   "cell_type": "code",
   "execution_count": 14,
   "id": "a87bf80b",
   "metadata": {},
   "outputs": [],
   "source": [
    "def calculate_balls_per_boundary(state: BatsmanState):\n",
    "    \n",
    "    balls_per_boundary = state['balls'] / (state['sixes'] + state['fours'])\n",
    "\n",
    "    return {'balls_per_boundary': balls_per_boundary}"
   ]
  },
  {
   "cell_type": "code",
   "execution_count": 20,
   "id": "f3772248",
   "metadata": {},
   "outputs": [],
   "source": [
    "def calculate_boundary_percentage(state: BatsmanState):\n",
    "    \n",
    "    boundary_percentage =  ((state['fours'] * 4) + (state['sixes'] * 6)) * 100.0 / state['runs']\n",
    "\n",
    "    return {'boundary_percentage': boundary_percentage}"
   ]
  },
  {
   "cell_type": "code",
   "execution_count": 21,
   "id": "5effbab6",
   "metadata": {},
   "outputs": [],
   "source": [
    "def summary(state: BatsmanState):\n",
    "    \n",
    "    summary = f\"\"\"\n",
    "Strike rate - {state['strike_rate']} \\n\n",
    "Balls per boundary - {state['balls_per_boundary']} \\n\n",
    "Boundary percentage - {state['boundary_percentage']} \\n \n",
    "\"\"\"\n",
    "    \n",
    "    return {'summary': summary}"
   ]
  },
  {
   "cell_type": "code",
   "execution_count": 22,
   "id": "f215453f",
   "metadata": {},
   "outputs": [],
   "source": [
    "graph = StateGraph(BatsmanState)\n",
    "\n",
    "graph.add_node('calculate_strike_rate', calculate_strike_rate)\n",
    "graph.add_node('calculate_balls_per_boundary', calculate_balls_per_boundary)\n",
    "graph.add_node('calculate_boundary_percentage', calculate_boundary_percentage)\n",
    "graph.add_node('summary', summary)\n",
    "\n",
    "graph.add_edge(START, 'calculate_balls_per_boundary')\n",
    "graph.add_edge(START, 'calculate_boundary_percentage')\n",
    "graph.add_edge(START, 'calculate_strike_rate')\n",
    "\n",
    "graph.add_edge('calculate_balls_per_boundary', 'summary')\n",
    "graph.add_edge('calculate_strike_rate', 'summary')\n",
    "graph.add_edge('calculate_boundary_percentage', 'summary')\n",
    "\n",
    "graph.add_edge('summary', END)\n",
    "\n",
    "workflow = graph.compile()\n"
   ]
  },
  {
   "cell_type": "code",
   "execution_count": 23,
   "id": "73236253",
   "metadata": {},
   "outputs": [
    {
     "data": {
      "image/png": "[encoded data removed]",
      "text/plain": [
       "<langgraph.graph.state.CompiledStateGraph object at 0x00000258D20F4D10>"
      ]
     },
     "execution_count": 23,
     "metadata": {},
     "output_type": "execute_result"
    }
   ],
   "source": [
    "workflow"
   ]
  },
  {
   "cell_type": "code",
   "execution_count": 24,
   "id": "dcba4f0e",
   "metadata": {},
   "outputs": [
    {
     "data": {
      "text/plain": [
       "{'runs': 76,\n",
       " 'balls': 50,\n",
       " 'fours': 1,\n",
       " 'sixes': 5,\n",
       " 'strike_rate': 152.0,\n",
       " 'balls_per_boundary': 8.333333333333334,\n",
       " 'boundary_percentage': 44.73684210526316,\n",
       " 'summary': '\\nStrike rate - 152.0 \\n\\nBalls per boundary - 8.333333333333334 \\n\\nBoundary percentage - 44.73684210526316 \\n \\n'}"
      ]
     },
     "execution_count": 24,
     "metadata": {},
     "output_type": "execute_result"
    }
   ],
   "source": [
    "initial_state = {\n",
    "    'runs' : 76,\n",
    "    'balls' : 50,\n",
    "    'fours' : 1,\n",
    "    'sixes' : 5\n",
    "}\n",
    "\n",
    "workflow.invoke(initial_state)"
   ]
  }
 ],
 "metadata": {
  "kernelspec": {
   "display_name": "Python 3",
   "language": "python",
   "name": "python3"
  },
  "language_info": {
   "codemirror_mode": {
    "name": "ipython",
    "version": 3
   },
   "file_extension": ".py",
   "mimetype": "text/x-python",
   "name": "python",
   "nbconvert_exporter": "python",
   "pygments_lexer": "ipython3",
   "version": "3.12.5"
  }
 },
 "nbformat": 4,
 "nbformat_minor": 5
}
