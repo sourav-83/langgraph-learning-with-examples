{
 "cells": [
  {
   "cell_type": "code",
   "execution_count": 63,
   "id": "bc40798b",
   "metadata": {},
   "outputs": [],
   "source": [
    "from langgraph.graph import StateGraph, START, END\n",
    "from typing import TypedDict, Literal, Annotated\n",
    "from langchain_google_genai import ChatGoogleGenerativeAI\n",
    "from dotenv import load_dotenv\n",
    "import operator"
   ]
  },
  {
   "cell_type": "code",
   "execution_count": 64,
   "id": "baa5da79",
   "metadata": {},
   "outputs": [
    {
     "data": {
      "text/plain": [
       "True"
      ]
     },
     "execution_count": 64,
     "metadata": {},
     "output_type": "execute_result"
    }
   ],
   "source": [
    "load_dotenv()"
   ]
  },
  {
   "cell_type": "code",
   "execution_count": 65,
   "id": "d7abcb66",
   "metadata": {},
   "outputs": [],
   "source": [
    "from langchain_core.messages import SystemMessage, HumanMessage"
   ]
  },
  {
   "cell_type": "code",
   "execution_count": 66,
   "id": "3e0d738f",
   "metadata": {},
   "outputs": [],
   "source": [
    "generator_llm = ChatGoogleGenerativeAI(model = \"gemini-1.5-flash\")\n",
    "evaluator_llm = ChatGoogleGenerativeAI(model = \"gemini-1.5-flash\")\n",
    "optimizer_llm = ChatGoogleGenerativeAI(model = \"gemini-1.5-flash\")"
   ]
  },
  {
   "cell_type": "code",
   "execution_count": 67,
   "id": "fe73e653",
   "metadata": {},
   "outputs": [],
   "source": [
    "class state(TypedDict):\n",
    "    \n",
    "    topic: str\n",
    "    tweet: str\n",
    "    evaluation: Literal[\"approved\", \"needs improvement\"]\n",
    "    feedback: str\n",
    "    iteration: int\n",
    "    max_iteration: int\n",
    "    tweet_history: Annotated[list[str], operator.add]\n",
    "    feedback_history: Annotated[list[str], operator.add]"
   ]
  },
  {
   "cell_type": "code",
   "execution_count": 68,
   "id": "3336c394",
   "metadata": {},
   "outputs": [],
   "source": [
    "from pydantic import BaseModel, Field\n",
    "\n",
    "class TweetEvaluation(BaseModel):\n",
    "    evaluation: Literal[\"approved\", \"needs improvement\"] = Field(..., description=\"Final evaluation result.\")\n",
    "    feedback: str = Field(..., description=\"feedback for the tweet.\")"
   ]
  },
  {
   "cell_type": "code",
   "execution_count": 69,
   "id": "08c7020c",
   "metadata": {},
   "outputs": [],
   "source": [
    "structured_evaluator_llm = evaluator_llm.with_structured_output(TweetEvaluation)"
   ]
  },
  {
   "cell_type": "code",
   "execution_count": 70,
   "id": "acc7beed",
   "metadata": {},
   "outputs": [],
   "source": [
    "def generate_tweet(state):\n",
    "\n",
    "    messages = [\n",
    "        SystemMessage(content=\"You are a funny but decent and clever Twitter or X influencer.\"),\n",
    "        HumanMessage(content=f\"\"\"\n",
    "Write a short, original, and hilarious tweet on the topic: \"{state['topic']}\".\n",
    "\n",
    "Rules:\n",
    "- Do NOT use question-answer format.\n",
    "- Max 280 characters.\n",
    "- Use observational humor, irony, sarcasm, or cultural references.\n",
    "- Think in meme logic, punchlines, or relatable takes.\n",
    "- Use simple, day to day english\n",
    "\"\"\")\n",
    "    ]\n",
    "\n",
    "    response = generator_llm.invoke(messages).content\n",
    "    return {'tweet': response, 'tweet_history': [response]}"
   ]
  },
  {
   "cell_type": "code",
   "execution_count": 78,
   "id": "32b968d8",
   "metadata": {},
   "outputs": [],
   "source": [
    "def evaluate_tweet(state):\n",
    "\n",
    "    messages = [\n",
    "    SystemMessage(content=\"You are a ruthless, no-laugh-given Twitter critic. You evaluate tweets based on humor, originality, virality, and tweet format.\"),\n",
    "    HumanMessage(content=f\"\"\"\n",
    "Evaluate the following tweet:\n",
    "\n",
    "Tweet: \"{state['tweet']}\"\n",
    "\n",
    "Use the criteria below to evaluate the tweet:\n",
    "\n",
    "1. Originality - Is this fresh, or have you seen it a hundred times before?  \n",
    "2. Humor - Did it genuinely make you smile, laugh, or chuckle?  \n",
    "3. Punchiness - Is it short, sharp, and scroll-stopping?  \n",
    "4. Virality Potential - Would people retweet or share it?  \n",
    "5. Format - Is it a well-formed tweet (not a setup-punchline joke, not a Q&A joke, and under 280 characters)?\n",
    "\n",
    "Auto-reject if:\n",
    "- It's written in question-answer format (e.g., \"Why did...\" or \"What happens when...\")\n",
    "- It exceeds 280 characters\n",
    "- It reads like a traditional setup-punchline joke\n",
    "- Dont end with generic, throwaway, or deflating lines that weaken the humor (e.g., “Masterpieces of the auntie-uncle universe” or vague summaries)\n",
    "\n",
    "### Respond ONLY in structured format:\n",
    "- evaluation: \"approved\" or \"needs improvement\"  \n",
    "- feedback: One paragraph explaining the strengths and weaknesses \n",
    "\"\"\")\n",
    "    ]\n",
    "\n",
    "    response = structured_evaluator_llm.invoke(messages)\n",
    "\n",
    "    return {'evaluation': response.evaluation, 'feedback': response.feedback, 'feedback_history': [response.feedback]}"
   ]
  },
  {
   "cell_type": "code",
   "execution_count": 79,
   "id": "481bd791",
   "metadata": {},
   "outputs": [],
   "source": [
    "def optimize_tweet(state):\n",
    "\n",
    "    messages = [\n",
    "        SystemMessage(content=\"You punch up tweets for virality and humor based on given feedback.\"),\n",
    "        HumanMessage(content=f\"\"\"\n",
    "Improve the tweet based on this feedback:\n",
    "\"{state['feedback']}\"\n",
    "\n",
    "Topic: \"{state['topic']}\"\n",
    "Original Tweet:\n",
    "{state['tweet']}\n",
    "\n",
    "Re-write it as a short, viral-worthy tweet. Avoid Q&A style and stay under 280 characters. Just rewrite the tweet.\n",
    "\"\"\")\n",
    "    ]\n",
    "\n",
    "    response = optimizer_llm.invoke(messages).content\n",
    "\n",
    "    iteration = state['iteration'] + 1\n",
    "\n",
    "    return {'tweet': response, 'iteration': iteration, 'tweet_history': [response]}"
   ]
  },
  {
   "cell_type": "code",
   "execution_count": 80,
   "id": "ff4d23ca",
   "metadata": {},
   "outputs": [],
   "source": [
    "def route_evaluation(state):\n",
    "    \n",
    "    if state['evaluation'] == 'approved' or state['iteration'] >= state['max_iteration']:\n",
    "        return 'approved'\n",
    "    else:\n",
    "        return 'needs improvement'"
   ]
  },
  {
   "cell_type": "code",
   "execution_count": 81,
   "id": "163a480c",
   "metadata": {},
   "outputs": [
    {
     "data": {
      "text/plain": [
       "<langgraph.graph.state.StateGraph at 0x19595e26660>"
      ]
     },
     "execution_count": 81,
     "metadata": {},
     "output_type": "execute_result"
    }
   ],
   "source": [
    "graph = StateGraph(state)\n",
    "\n",
    "graph.add_node('generate', generate_tweet)\n",
    "graph.add_node('evaluate', evaluate_tweet)\n",
    "graph.add_node('optimize', optimize_tweet)\n",
    "\n",
    "graph.add_edge(START, 'generate')\n",
    "graph.add_edge('generate', 'evaluate')\n",
    "\n",
    "graph.add_conditional_edges('evaluate', route_evaluation, {'approved': END, 'needs improvement': 'optimize'})\n",
    "\n",
    "graph.add_edge('optimize', 'evaluate')\n"
   ]
  },
  {
   "cell_type": "code",
   "execution_count": 82,
   "id": "931f3215",
   "metadata": {},
   "outputs": [],
   "source": [
    "workflow = graph.compile()"
   ]
  },
  {
   "cell_type": "code",
   "execution_count": 83,
   "id": "45ef9113",
   "metadata": {},
   "outputs": [
    {
     "data": {
      "image/png": "[encoded data removed]",
      "text/plain": [
       "<langgraph.graph.state.CompiledStateGraph object at 0x0000019594B6F170>"
      ]
     },
     "execution_count": 83,
     "metadata": {},
     "output_type": "execute_result"
    }
   ],
   "source": [
    "workflow"
   ]
  },
  {
   "cell_type": "code",
   "execution_count": 86,
   "id": "1c48e122",
   "metadata": {},
   "outputs": [
    {
     "data": {
      "text/plain": [
       "{'topic': 'Lionel Messi',\n",
       " 'tweet': \"Pigeon just nutmegged a breadcrumb.  Messi's got nothing on this feathered footwork. #PigeonSkills #BirdBall #NextLevel\",\n",
       " 'evaluation': 'approved',\n",
       " 'feedback': 'The tweet is short, punchy, and original. The comparison to Messi is unexpected and humorous, making it likely to go viral. The hashtags are relevant and well-chosen.  The format is excellent; it avoids the pitfalls of setup-punchline jokes and stays within the character limit. Overall, a solid tweet.',\n",
       " 'iteration': 2,\n",
       " 'max_iteration': 5,\n",
       " 'tweet_history': ['Just saw a pigeon trying to dribble a breadcrumb.  Pretty sure it was practicing its Messi impression.  #GOAT #PigeonMessi #SmallButMighty',\n",
       "  \"Pigeon just nutmegged a breadcrumb.  Messi's got nothing on this feathered footwork. #PigeonSkills #BirdBall #NextLevel\"],\n",
       " 'feedback_history': [\"The tweet shows promise with its creative premise of a pigeon attempting basketball-like maneuvers with a breadcrumb. The hashtags add a bit of playful flair. However, the humor falls flat; the Messi comparison is predictable and doesn't create a strong comedic effect.  The tweet's length is acceptable, and its format is sound, avoiding question-answer or setup-punchline structures.  While the concept is somewhat original, its execution lacks the punch needed for significant virality. The humor needs sharpening to elevate the tweet from an okay observation to a truly memorable one.\",\n",
       "  'The tweet is short, punchy, and original. The comparison to Messi is unexpected and humorous, making it likely to go viral. The hashtags are relevant and well-chosen.  The format is excellent; it avoids the pitfalls of setup-punchline jokes and stays within the character limit. Overall, a solid tweet.']}"
      ]
     },
     "execution_count": 86,
     "metadata": {},
     "output_type": "execute_result"
    }
   ],
   "source": [
    "initial_state = {\n",
    "    'topic': 'Lionel Messi',\n",
    "    'iteration': 1,\n",
    "    'max_iteration': 5\n",
    "}\n",
    "\n",
    "workflow.invoke(initial_state)"
   ]
  }
 ],
 "metadata": {
  "kernelspec": {
   "display_name": "Python 3",
   "language": "python",
   "name": "python3"
  },
  "language_info": {
   "codemirror_mode": {
    "name": "ipython",
    "version": 3
   },
   "file_extension": ".py",
   "mimetype": "text/x-python",
   "name": "python",
   "nbconvert_exporter": "python",
   "pygments_lexer": "ipython3",
   "version": "3.12.5"
  }
 },
 "nbformat": 4,
 "nbformat_minor": 5
}
