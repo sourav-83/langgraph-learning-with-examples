{
 "cells": [
  {
   "cell_type": "code",
   "execution_count": 6,
   "id": "32947722",
   "metadata": {},
   "outputs": [],
   "source": [
    "from langgraph.graph import StateGraph, START, END\n",
    "from typing import TypedDict"
   ]
  },
  {
   "cell_type": "code",
   "execution_count": 8,
   "id": "a82fb2d9",
   "metadata": {},
   "outputs": [],
   "source": [
    "from langchain_google_genai import ChatGoogleGenerativeAI\n",
    "from dotenv import load_dotenv\n",
    "\n",
    "load_dotenv()\n",
    "\n",
    "model = ChatGoogleGenerativeAI(model = \"gemini-1.5-flash\")\n"
   ]
  },
  {
   "cell_type": "code",
   "execution_count": 7,
   "id": "837be0b9",
   "metadata": {},
   "outputs": [],
   "source": [
    "class LLMState(TypedDict):\n",
    "    question: str\n",
    "    answer: str\n"
   ]
  },
  {
   "cell_type": "code",
   "execution_count": 18,
   "id": "3ac8a5b9",
   "metadata": {},
   "outputs": [],
   "source": [
    "def llm(state: LLMState) -> LLMState:\n",
    "\n",
    "    prompt = f'Answer the following question {state['question']}'\n",
    "\n",
    "    result = model.invoke(prompt)\n",
    "\n",
    "    state['answer'] = result.content\n",
    "    return state"
   ]
  },
  {
   "cell_type": "code",
   "execution_count": 19,
   "id": "ef6d3a80",
   "metadata": {},
   "outputs": [],
   "source": [
    "graph = StateGraph(LLMState)\n",
    "\n",
    "graph.add_node('llm', llm)\n",
    "\n",
    "graph.add_edge(START, 'llm')\n",
    "\n",
    "graph.add_edge('llm', END)\n",
    "\n",
    "llm_workflow = graph.compile()"
   ]
  },
  {
   "cell_type": "code",
   "execution_count": 20,
   "id": "ea823813",
   "metadata": {},
   "outputs": [
    {
     "name": "stdout",
     "output_type": "stream",
     "text": [
      "Hello there, beautiful!  How can I help you today?\n"
     ]
    }
   ],
   "source": [
    "final_state = llm_workflow.invoke({'question': 'hello beautiful'})\n",
    "\n",
    "print(final_state['answer'])"
   ]
  },
  {
   "cell_type": "code",
   "execution_count": null,
   "id": "77f0b1e4",
   "metadata": {},
   "outputs": [],
   "source": []
  }
 ],
 "metadata": {
  "kernelspec": {
   "display_name": "Python 3",
   "language": "python",
   "name": "python3"
  },
  "language_info": {
   "codemirror_mode": {
    "name": "ipython",
    "version": 3
   },
   "file_extension": ".py",
   "mimetype": "text/x-python",
   "name": "python",
   "nbconvert_exporter": "python",
   "pygments_lexer": "ipython3",
   "version": "3.12.5"
  }
 },
 "nbformat": 4,
 "nbformat_minor": 5
}
